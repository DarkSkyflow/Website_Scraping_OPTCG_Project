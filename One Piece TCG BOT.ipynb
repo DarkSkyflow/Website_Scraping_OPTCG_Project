{
 "cells": [
  {
   "cell_type": "code",
   "execution_count": 1,
   "id": "cbb78b10",
   "metadata": {},
   "outputs": [],
   "source": [
    "from bs4 import BeautifulSoup\n",
    "import requests"
   ]
  },
  {
   "cell_type": "code",
   "execution_count": 2,
   "id": "25d2c30c",
   "metadata": {},
   "outputs": [],
   "source": [
    "url = 'https://onepiece.limitlesstcg.com/decks'\n",
    "page = requests.get(url)\n",
    "soup = BeautifulSoup(page.text)"
   ]
  },
  {
   "cell_type": "code",
   "execution_count": 3,
   "id": "46bde8cf",
   "metadata": {},
   "outputs": [],
   "source": [
    "#print(soup)"
   ]
  },
  {
   "cell_type": "code",
   "execution_count": 4,
   "id": "48f118ea",
   "metadata": {},
   "outputs": [],
   "source": [
    "#.find is enough but .find_all finds everything (and if there multiple stuff just grab it like an array)"
   ]
  },
  {
   "cell_type": "code",
   "execution_count": 5,
   "id": "047a68d5",
   "metadata": {
    "scrolled": true
   },
   "outputs": [],
   "source": [
    "#soup.find_all('table')[0] "
   ]
  },
  {
   "cell_type": "code",
   "execution_count": 6,
   "id": "e136bfcf",
   "metadata": {},
   "outputs": [],
   "source": [
    "table = soup.find_all('table')[0]"
   ]
  },
  {
   "cell_type": "code",
   "execution_count": 7,
   "id": "3b018780",
   "metadata": {},
   "outputs": [],
   "source": [
    "#print(table)   "
   ]
  },
  {
   "cell_type": "code",
   "execution_count": 8,
   "id": "427a914e",
   "metadata": {},
   "outputs": [],
   "source": [
    "world_titles = table.find_all('th')"
   ]
  },
  {
   "cell_type": "code",
   "execution_count": 9,
   "id": "95c32fb6",
   "metadata": {},
   "outputs": [
    {
     "data": {
      "text/plain": [
       "[<th>#</th>, <th>Deck</th>, <th>Points</th>, <th>Share</th>]"
      ]
     },
     "execution_count": 9,
     "metadata": {},
     "output_type": "execute_result"
    }
   ],
   "source": [
    "world_titles"
   ]
  },
  {
   "cell_type": "code",
   "execution_count": 10,
   "id": "f25a34bb",
   "metadata": {},
   "outputs": [
    {
     "name": "stdout",
     "output_type": "stream",
     "text": [
      "['#', 'Deck', 'Points', 'Share']\n"
     ]
    }
   ],
   "source": [
    "world_table_titles = [title.text for title in world_titles]\n",
    "\n",
    "print(world_table_titles)"
   ]
  },
  {
   "cell_type": "code",
   "execution_count": 11,
   "id": "06077912",
   "metadata": {},
   "outputs": [],
   "source": [
    "import pandas as pd"
   ]
  },
  {
   "cell_type": "code",
   "execution_count": 12,
   "id": "3b31e8fc",
   "metadata": {},
   "outputs": [
    {
     "data": {
      "text/html": [
       "<div>\n",
       "<style scoped>\n",
       "    .dataframe tbody tr th:only-of-type {\n",
       "        vertical-align: middle;\n",
       "    }\n",
       "\n",
       "    .dataframe tbody tr th {\n",
       "        vertical-align: top;\n",
       "    }\n",
       "\n",
       "    .dataframe thead th {\n",
       "        text-align: right;\n",
       "    }\n",
       "</style>\n",
       "<table border=\"1\" class=\"dataframe\">\n",
       "  <thead>\n",
       "    <tr style=\"text-align: right;\">\n",
       "      <th></th>\n",
       "      <th>#</th>\n",
       "      <th>Deck</th>\n",
       "      <th>Points</th>\n",
       "      <th>Share</th>\n",
       "    </tr>\n",
       "  </thead>\n",
       "  <tbody>\n",
       "  </tbody>\n",
       "</table>\n",
       "</div>"
      ],
      "text/plain": [
       "Empty DataFrame\n",
       "Columns: [#, Deck, Points, Share]\n",
       "Index: []"
      ]
     },
     "execution_count": 12,
     "metadata": {},
     "output_type": "execute_result"
    }
   ],
   "source": [
    "df = pd.DataFrame(columns = world_table_titles)\n",
    "df"
   ]
  },
  {
   "cell_type": "code",
   "execution_count": 13,
   "id": "54340d95",
   "metadata": {},
   "outputs": [],
   "source": [
    "#Looping through tr"
   ]
  },
  {
   "cell_type": "code",
   "execution_count": 14,
   "id": "2f1cb850",
   "metadata": {},
   "outputs": [],
   "source": [
    "#as loopthrough and looking though for td \n",
    "#look at text the stip and add to list"
   ]
  },
  {
   "cell_type": "code",
   "execution_count": 15,
   "id": "1e4d8091",
   "metadata": {},
   "outputs": [],
   "source": [
    "#then looking at current data fram and \n",
    "#appending each row of information into each position"
   ]
  },
  {
   "cell_type": "code",
   "execution_count": 16,
   "id": "4889f6fe",
   "metadata": {},
   "outputs": [],
   "source": [
    "column_data = table.find_all('tr')"
   ]
  },
  {
   "cell_type": "code",
   "execution_count": 17,
   "id": "3686078b",
   "metadata": {},
   "outputs": [],
   "source": [
    "for row in column_data[1:]:\n",
    "    row_data = row.find_all('td')\n",
    "    individual_row_data = [data.text.strip() for data in row_data]\n",
    "    \n",
    "    #print(individual_row_data)\n",
    "    \n",
    "    length = len(df)\n",
    "    df.loc[length] = individual_row_data"
   ]
  },
  {
   "cell_type": "code",
   "execution_count": 18,
   "id": "09794b6e",
   "metadata": {},
   "outputs": [
    {
     "data": {
      "text/html": [
       "<div>\n",
       "<style scoped>\n",
       "    .dataframe tbody tr th:only-of-type {\n",
       "        vertical-align: middle;\n",
       "    }\n",
       "\n",
       "    .dataframe tbody tr th {\n",
       "        vertical-align: top;\n",
       "    }\n",
       "\n",
       "    .dataframe thead th {\n",
       "        text-align: right;\n",
       "    }\n",
       "</style>\n",
       "<table border=\"1\" class=\"dataframe\">\n",
       "  <thead>\n",
       "    <tr style=\"text-align: right;\">\n",
       "      <th></th>\n",
       "      <th>#</th>\n",
       "      <th>Deck</th>\n",
       "      <th>Points</th>\n",
       "      <th>Share</th>\n",
       "    </tr>\n",
       "  </thead>\n",
       "  <tbody>\n",
       "    <tr>\n",
       "      <th>0</th>\n",
       "      <td>1</td>\n",
       "      <td>Whitebeard\\nRed</td>\n",
       "      <td>2470</td>\n",
       "      <td>33.86%</td>\n",
       "    </tr>\n",
       "    <tr>\n",
       "      <th>1</th>\n",
       "      <td>2</td>\n",
       "      <td>Law\\nRed/Green</td>\n",
       "      <td>1174</td>\n",
       "      <td>16.09%</td>\n",
       "    </tr>\n",
       "    <tr>\n",
       "      <th>2</th>\n",
       "      <td>3</td>\n",
       "      <td>Zoro\\nRed</td>\n",
       "      <td>1165</td>\n",
       "      <td>15.97%</td>\n",
       "    </tr>\n",
       "    <tr>\n",
       "      <th>3</th>\n",
       "      <td>4</td>\n",
       "      <td>Katakuri\\nYellow</td>\n",
       "      <td>714</td>\n",
       "      <td>9.79%</td>\n",
       "    </tr>\n",
       "    <tr>\n",
       "      <th>4</th>\n",
       "      <td>5</td>\n",
       "      <td>Doflamingo\\nGreen/Purple</td>\n",
       "      <td>438</td>\n",
       "      <td>6.00%</td>\n",
       "    </tr>\n",
       "    <tr>\n",
       "      <th>5</th>\n",
       "      <td>6</td>\n",
       "      <td>Kid\\nGreen</td>\n",
       "      <td>235</td>\n",
       "      <td>3.22%</td>\n",
       "    </tr>\n",
       "    <tr>\n",
       "      <th>6</th>\n",
       "      <td>7</td>\n",
       "      <td>Ace\\nRed</td>\n",
       "      <td>150</td>\n",
       "      <td>2.06%</td>\n",
       "    </tr>\n",
       "    <tr>\n",
       "      <th>7</th>\n",
       "      <td>8</td>\n",
       "      <td>Rebecca\\nBlue/Black</td>\n",
       "      <td>139</td>\n",
       "      <td>1.91%</td>\n",
       "    </tr>\n",
       "    <tr>\n",
       "      <th>8</th>\n",
       "      <td>9</td>\n",
       "      <td>Queen\\nBlue/Yellow</td>\n",
       "      <td>138</td>\n",
       "      <td>1.89%</td>\n",
       "    </tr>\n",
       "    <tr>\n",
       "      <th>9</th>\n",
       "      <td>10</td>\n",
       "      <td>Lucci\\nBlack</td>\n",
       "      <td>137</td>\n",
       "      <td>1.88%</td>\n",
       "    </tr>\n",
       "    <tr>\n",
       "      <th>10</th>\n",
       "      <td>11</td>\n",
       "      <td>Crocodile\\nBlue</td>\n",
       "      <td>135</td>\n",
       "      <td>1.85%</td>\n",
       "    </tr>\n",
       "    <tr>\n",
       "      <th>11</th>\n",
       "      <td>12</td>\n",
       "      <td>Doflamingo\\nBlue</td>\n",
       "      <td>93</td>\n",
       "      <td>1.27%</td>\n",
       "    </tr>\n",
       "    <tr>\n",
       "      <th>12</th>\n",
       "      <td>13</td>\n",
       "      <td>Nami\\nBlue</td>\n",
       "      <td>70</td>\n",
       "      <td>0.96%</td>\n",
       "    </tr>\n",
       "    <tr>\n",
       "      <th>13</th>\n",
       "      <td>14</td>\n",
       "      <td>Luffy\\nBlack</td>\n",
       "      <td>53</td>\n",
       "      <td>0.73%</td>\n",
       "    </tr>\n",
       "    <tr>\n",
       "      <th>14</th>\n",
       "      <td>15</td>\n",
       "      <td>Yamato\\nYellow</td>\n",
       "      <td>51</td>\n",
       "      <td>0.70%</td>\n",
       "    </tr>\n",
       "    <tr>\n",
       "      <th>15</th>\n",
       "      <td>16</td>\n",
       "      <td>Kin'emon\\nGreen</td>\n",
       "      <td>42</td>\n",
       "      <td>0.58%</td>\n",
       "    </tr>\n",
       "    <tr>\n",
       "      <th>16</th>\n",
       "      <td>17</td>\n",
       "      <td>Magellan\\nPurple</td>\n",
       "      <td>34</td>\n",
       "      <td>0.47%</td>\n",
       "    </tr>\n",
       "    <tr>\n",
       "      <th>17</th>\n",
       "      <td>18</td>\n",
       "      <td>Smoker\\nBlack</td>\n",
       "      <td>27</td>\n",
       "      <td>0.37%</td>\n",
       "    </tr>\n",
       "    <tr>\n",
       "      <th>18</th>\n",
       "      <td>19</td>\n",
       "      <td>Ivankov\\nBlue</td>\n",
       "      <td>12</td>\n",
       "      <td>0.16%</td>\n",
       "    </tr>\n",
       "    <tr>\n",
       "      <th>19</th>\n",
       "      <td>20</td>\n",
       "      <td>Big Mom\\nYellow</td>\n",
       "      <td>6</td>\n",
       "      <td>0.08%</td>\n",
       "    </tr>\n",
       "    <tr>\n",
       "      <th>20</th>\n",
       "      <td>20</td>\n",
       "      <td>Luffy\\nRed</td>\n",
       "      <td>6</td>\n",
       "      <td>0.08%</td>\n",
       "    </tr>\n",
       "    <tr>\n",
       "      <th>21</th>\n",
       "      <td>20</td>\n",
       "      <td>Kaido\\nPurple</td>\n",
       "      <td>6</td>\n",
       "      <td>0.08%</td>\n",
       "    </tr>\n",
       "  </tbody>\n",
       "</table>\n",
       "</div>"
      ],
      "text/plain": [
       "     #                      Deck Points   Share\n",
       "0    1           Whitebeard\\nRed   2470  33.86%\n",
       "1    2            Law\\nRed/Green   1174  16.09%\n",
       "2    3                 Zoro\\nRed   1165  15.97%\n",
       "3    4          Katakuri\\nYellow    714   9.79%\n",
       "4    5  Doflamingo\\nGreen/Purple    438   6.00%\n",
       "5    6                Kid\\nGreen    235   3.22%\n",
       "6    7                  Ace\\nRed    150   2.06%\n",
       "7    8       Rebecca\\nBlue/Black    139   1.91%\n",
       "8    9        Queen\\nBlue/Yellow    138   1.89%\n",
       "9   10              Lucci\\nBlack    137   1.88%\n",
       "10  11           Crocodile\\nBlue    135   1.85%\n",
       "11  12          Doflamingo\\nBlue     93   1.27%\n",
       "12  13                Nami\\nBlue     70   0.96%\n",
       "13  14              Luffy\\nBlack     53   0.73%\n",
       "14  15            Yamato\\nYellow     51   0.70%\n",
       "15  16           Kin'emon\\nGreen     42   0.58%\n",
       "16  17          Magellan\\nPurple     34   0.47%\n",
       "17  18             Smoker\\nBlack     27   0.37%\n",
       "18  19             Ivankov\\nBlue     12   0.16%\n",
       "19  20           Big Mom\\nYellow      6   0.08%\n",
       "20  20                Luffy\\nRed      6   0.08%\n",
       "21  20             Kaido\\nPurple      6   0.08%"
      ]
     },
     "execution_count": 18,
     "metadata": {},
     "output_type": "execute_result"
    }
   ],
   "source": [
    "df"
   ]
  },
  {
   "cell_type": "code",
   "execution_count": null,
   "id": "9f1a22ee",
   "metadata": {},
   "outputs": [],
   "source": []
  }
 ],
 "metadata": {
  "kernelspec": {
   "display_name": "Python 3 (ipykernel)",
   "language": "python",
   "name": "python3"
  },
  "language_info": {
   "codemirror_mode": {
    "name": "ipython",
    "version": 3
   },
   "file_extension": ".py",
   "mimetype": "text/x-python",
   "name": "python",
   "nbconvert_exporter": "python",
   "pygments_lexer": "ipython3",
   "version": "3.11.4"
  }
 },
 "nbformat": 4,
 "nbformat_minor": 5
}
